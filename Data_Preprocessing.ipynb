{
 "cells": [
  {
   "cell_type": "code",
   "execution_count": 1,
   "id": "986792ec",
   "metadata": {},
   "outputs": [
    {
     "data": {
      "text/html": [
       "<div>\n",
       "<style scoped>\n",
       "    .dataframe tbody tr th:only-of-type {\n",
       "        vertical-align: middle;\n",
       "    }\n",
       "\n",
       "    .dataframe tbody tr th {\n",
       "        vertical-align: top;\n",
       "    }\n",
       "\n",
       "    .dataframe thead th {\n",
       "        text-align: right;\n",
       "    }\n",
       "</style>\n",
       "<table border=\"1\" class=\"dataframe\">\n",
       "  <thead>\n",
       "    <tr style=\"text-align: right;\">\n",
       "      <th></th>\n",
       "      <th>tx_hash</th>\n",
       "      <th>indegree</th>\n",
       "      <th>outdegree</th>\n",
       "      <th>in_btc</th>\n",
       "      <th>out_btc</th>\n",
       "      <th>total_btc</th>\n",
       "      <th>mean_in_btc</th>\n",
       "      <th>mean_out_btc</th>\n",
       "      <th>in_malicious</th>\n",
       "      <th>out_malicious</th>\n",
       "      <th>is_malicious</th>\n",
       "      <th>out_and_tx_malicious</th>\n",
       "      <th>all_malicious</th>\n",
       "    </tr>\n",
       "  </thead>\n",
       "  <tbody>\n",
       "    <tr>\n",
       "      <th>0</th>\n",
       "      <td>0437cd7f8525ceed2324359c2d0ba26006d92d856a9c20...</td>\n",
       "      <td>0</td>\n",
       "      <td>1</td>\n",
       "      <td>0.0</td>\n",
       "      <td>50.0</td>\n",
       "      <td>50.0</td>\n",
       "      <td>0.0</td>\n",
       "      <td>50.0</td>\n",
       "      <td>0</td>\n",
       "      <td>0</td>\n",
       "      <td>0</td>\n",
       "      <td>0</td>\n",
       "      <td>0</td>\n",
       "    </tr>\n",
       "    <tr>\n",
       "      <th>1</th>\n",
       "      <td>f4184fc596403b9d638783cf57adfe4c75c605f6356fbc...</td>\n",
       "      <td>1</td>\n",
       "      <td>2</td>\n",
       "      <td>50.0</td>\n",
       "      <td>50.0</td>\n",
       "      <td>100.0</td>\n",
       "      <td>50.0</td>\n",
       "      <td>25.0</td>\n",
       "      <td>0</td>\n",
       "      <td>0</td>\n",
       "      <td>0</td>\n",
       "      <td>0</td>\n",
       "      <td>0</td>\n",
       "    </tr>\n",
       "    <tr>\n",
       "      <th>2</th>\n",
       "      <td>ea44e97271691990157559d0bdd9959e02790c34db6c00...</td>\n",
       "      <td>1</td>\n",
       "      <td>1</td>\n",
       "      <td>10.0</td>\n",
       "      <td>10.0</td>\n",
       "      <td>20.0</td>\n",
       "      <td>10.0</td>\n",
       "      <td>10.0</td>\n",
       "      <td>0</td>\n",
       "      <td>0</td>\n",
       "      <td>0</td>\n",
       "      <td>0</td>\n",
       "      <td>0</td>\n",
       "    </tr>\n",
       "    <tr>\n",
       "      <th>3</th>\n",
       "      <td>a16f3ce4dd5deb92d98ef5cf8afeaf0775ebca408f708b...</td>\n",
       "      <td>1</td>\n",
       "      <td>1</td>\n",
       "      <td>40.0</td>\n",
       "      <td>30.0</td>\n",
       "      <td>70.0</td>\n",
       "      <td>40.0</td>\n",
       "      <td>30.0</td>\n",
       "      <td>0</td>\n",
       "      <td>0</td>\n",
       "      <td>0</td>\n",
       "      <td>0</td>\n",
       "      <td>0</td>\n",
       "    </tr>\n",
       "    <tr>\n",
       "      <th>4</th>\n",
       "      <td>591e91f809d716912ca1d4a9295e70c3e78bab077683f7...</td>\n",
       "      <td>1</td>\n",
       "      <td>2</td>\n",
       "      <td>30.0</td>\n",
       "      <td>30.0</td>\n",
       "      <td>60.0</td>\n",
       "      <td>30.0</td>\n",
       "      <td>15.0</td>\n",
       "      <td>0</td>\n",
       "      <td>0</td>\n",
       "      <td>0</td>\n",
       "      <td>0</td>\n",
       "      <td>0</td>\n",
       "    </tr>\n",
       "  </tbody>\n",
       "</table>\n",
       "</div>"
      ],
      "text/plain": [
       "                                             tx_hash  indegree  outdegree  \\\n",
       "0  0437cd7f8525ceed2324359c2d0ba26006d92d856a9c20...         0          1   \n",
       "1  f4184fc596403b9d638783cf57adfe4c75c605f6356fbc...         1          2   \n",
       "2  ea44e97271691990157559d0bdd9959e02790c34db6c00...         1          1   \n",
       "3  a16f3ce4dd5deb92d98ef5cf8afeaf0775ebca408f708b...         1          1   \n",
       "4  591e91f809d716912ca1d4a9295e70c3e78bab077683f7...         1          2   \n",
       "\n",
       "   in_btc  out_btc  total_btc  mean_in_btc  mean_out_btc  in_malicious  \\\n",
       "0     0.0     50.0       50.0          0.0          50.0             0   \n",
       "1    50.0     50.0      100.0         50.0          25.0             0   \n",
       "2    10.0     10.0       20.0         10.0          10.0             0   \n",
       "3    40.0     30.0       70.0         40.0          30.0             0   \n",
       "4    30.0     30.0       60.0         30.0          15.0             0   \n",
       "\n",
       "   out_malicious  is_malicious  out_and_tx_malicious  all_malicious  \n",
       "0              0             0                     0              0  \n",
       "1              0             0                     0              0  \n",
       "2              0             0                     0              0  \n",
       "3              0             0                     0              0  \n",
       "4              0             0                     0              0  "
      ]
     },
     "execution_count": 1,
     "metadata": {},
     "output_type": "execute_result"
    }
   ],
   "source": [
    "import pandas as pd\n",
    "\n",
    "df = pd.read_csv('bad1.csv')\n",
    "df.head()"
   ]
  },
  {
   "cell_type": "code",
   "execution_count": 2,
   "id": "36f76b00",
   "metadata": {},
   "outputs": [
    {
     "data": {
      "text/plain": [
       "tx_hash                 0\n",
       "indegree                0\n",
       "outdegree               0\n",
       "in_btc                  0\n",
       "out_btc                 0\n",
       "total_btc               0\n",
       "mean_in_btc             0\n",
       "mean_out_btc            0\n",
       "in_malicious            0\n",
       "out_malicious           0\n",
       "is_malicious            0\n",
       "out_and_tx_malicious    0\n",
       "all_malicious           0\n",
       "dtype: int64"
      ]
     },
     "execution_count": 2,
     "metadata": {},
     "output_type": "execute_result"
    }
   ],
   "source": [
    "# Check for missing values\n",
    "df.isnull().sum()"
   ]
  },
  {
   "cell_type": "code",
   "execution_count": 3,
   "id": "075da88e",
   "metadata": {},
   "outputs": [
    {
     "data": {
      "text/plain": [
       "<Figure size 432x288 with 0 Axes>"
      ]
     },
     "metadata": {},
     "output_type": "display_data"
    },
    {
     "data": {
      "image/png": "[encoded data removed]",
      "text/plain": [
       "<Figure size 720x432 with 1 Axes>"
      ]
     },
     "metadata": {
      "needs_background": "light"
     },
     "output_type": "display_data"
    },
    {
     "data": {
      "image/png": "[encoded data removed]",
      "text/plain": [
       "<Figure size 720x432 with 1 Axes>"
      ]
     },
     "metadata": {
      "needs_background": "light"
     },
     "output_type": "display_data"
    },
    {
     "data": {
      "image/png": "[encoded data removed]",
      "text/plain": [
       "<Figure size 720x432 with 1 Axes>"
      ]
     },
     "metadata": {
      "needs_background": "light"
     },
     "output_type": "display_data"
    },
    {
     "data": {
      "image/png": "[encoded data removed]",
      "text/plain": [
       "<Figure size 720x432 with 1 Axes>"
      ]
     },
     "metadata": {
      "needs_background": "light"
     },
     "output_type": "display_data"
    },
    {
     "data": {
      "image/png": "[encoded data removed]",
      "text/plain": [
       "<Figure size 720x432 with 1 Axes>"
      ]
     },
     "metadata": {
      "needs_background": "light"
     },
     "output_type": "display_data"
    },
    {
     "data": {
      "image/png": "[encoded data removed]",
      "text/plain": [
       "<Figure size 720x432 with 1 Axes>"
      ]
     },
     "metadata": {
      "needs_background": "light"
     },
     "output_type": "display_data"
    },
    {
     "data": {
      "image/png": "[encoded data removed]",
      "text/plain": [
       "<Figure size 720x432 with 1 Axes>"
      ]
     },
     "metadata": {
      "needs_background": "light"
     },
     "output_type": "display_data"
    }
   ],
   "source": [
    "import matplotlib.pyplot as plt\n",
    "import seaborn as sns\n",
    "\n",
    "# Set the background color to white for visibility\n",
    "plt.figure(facecolor='white')\n",
    "\n",
    "# Select numerical columns for distribution analysis\n",
    "numerical_cols = ['indegree', 'outdegree', 'in_btc', 'out_btc', 'total_btc', 'mean_in_btc', 'mean_out_btc']\n",
    "\n",
    "# Plot distributions\n",
    "for col in numerical_cols:\n",
    "    plt.figure(figsize=(10, 6))\n",
    "    sns.histplot(df[col], kde=True, bins=30)\n",
    "    plt.title('Distribution of ' + col)\n",
    "    plt.xlabel(col)\n",
    "    plt.ylabel('Frequency')\n",
    "    plt.show()"
   ]
  },
  {
   "cell_type": "code",
   "execution_count": 4,
   "id": "61e015b5",
   "metadata": {},
   "outputs": [
    {
     "name": "stdout",
     "output_type": "stream",
     "text": [
      "Numerical columns normalized.\n"
     ]
    },
    {
     "data": {
      "text/html": [
       "<div>\n",
       "<style scoped>\n",
       "    .dataframe tbody tr th:only-of-type {\n",
       "        vertical-align: middle;\n",
       "    }\n",
       "\n",
       "    .dataframe tbody tr th {\n",
       "        vertical-align: top;\n",
       "    }\n",
       "\n",
       "    .dataframe thead th {\n",
       "        text-align: right;\n",
       "    }\n",
       "</style>\n",
       "<table border=\"1\" class=\"dataframe\">\n",
       "  <thead>\n",
       "    <tr style=\"text-align: right;\">\n",
       "      <th></th>\n",
       "      <th>tx_hash</th>\n",
       "      <th>indegree</th>\n",
       "      <th>outdegree</th>\n",
       "      <th>in_btc</th>\n",
       "      <th>out_btc</th>\n",
       "      <th>total_btc</th>\n",
       "      <th>mean_in_btc</th>\n",
       "      <th>mean_out_btc</th>\n",
       "      <th>in_malicious</th>\n",
       "      <th>out_malicious</th>\n",
       "      <th>is_malicious</th>\n",
       "      <th>out_and_tx_malicious</th>\n",
       "      <th>all_malicious</th>\n",
       "    </tr>\n",
       "  </thead>\n",
       "  <tbody>\n",
       "    <tr>\n",
       "      <th>0</th>\n",
       "      <td>0437cd7f8525ceed2324359c2d0ba26006d92d856a9c20...</td>\n",
       "      <td>-0.122207</td>\n",
       "      <td>-0.562472</td>\n",
       "      <td>-0.097154</td>\n",
       "      <td>-0.081493</td>\n",
       "      <td>-0.089661</td>\n",
       "      <td>-0.121279</td>\n",
       "      <td>-0.062446</td>\n",
       "      <td>0</td>\n",
       "      <td>0</td>\n",
       "      <td>0</td>\n",
       "      <td>0</td>\n",
       "      <td>0</td>\n",
       "    </tr>\n",
       "    <tr>\n",
       "      <th>1</th>\n",
       "      <td>f4184fc596403b9d638783cf57adfe4c75c605f6356fbc...</td>\n",
       "      <td>-0.023488</td>\n",
       "      <td>1.556850</td>\n",
       "      <td>-0.069773</td>\n",
       "      <td>-0.081493</td>\n",
       "      <td>-0.075826</td>\n",
       "      <td>-0.072164</td>\n",
       "      <td>-0.077941</td>\n",
       "      <td>0</td>\n",
       "      <td>0</td>\n",
       "      <td>0</td>\n",
       "      <td>0</td>\n",
       "      <td>0</td>\n",
       "    </tr>\n",
       "    <tr>\n",
       "      <th>2</th>\n",
       "      <td>ea44e97271691990157559d0bdd9959e02790c34db6c00...</td>\n",
       "      <td>-0.023488</td>\n",
       "      <td>-0.562472</td>\n",
       "      <td>-0.091678</td>\n",
       "      <td>-0.103722</td>\n",
       "      <td>-0.097961</td>\n",
       "      <td>-0.111456</td>\n",
       "      <td>-0.087239</td>\n",
       "      <td>0</td>\n",
       "      <td>0</td>\n",
       "      <td>0</td>\n",
       "      <td>0</td>\n",
       "      <td>0</td>\n",
       "    </tr>\n",
       "    <tr>\n",
       "      <th>3</th>\n",
       "      <td>a16f3ce4dd5deb92d98ef5cf8afeaf0775ebca408f708b...</td>\n",
       "      <td>-0.023488</td>\n",
       "      <td>-0.562472</td>\n",
       "      <td>-0.075249</td>\n",
       "      <td>-0.092607</td>\n",
       "      <td>-0.084127</td>\n",
       "      <td>-0.081987</td>\n",
       "      <td>-0.074842</td>\n",
       "      <td>0</td>\n",
       "      <td>0</td>\n",
       "      <td>0</td>\n",
       "      <td>0</td>\n",
       "      <td>0</td>\n",
       "    </tr>\n",
       "    <tr>\n",
       "      <th>4</th>\n",
       "      <td>591e91f809d716912ca1d4a9295e70c3e78bab077683f7...</td>\n",
       "      <td>-0.023488</td>\n",
       "      <td>1.556850</td>\n",
       "      <td>-0.080725</td>\n",
       "      <td>-0.092607</td>\n",
       "      <td>-0.086894</td>\n",
       "      <td>-0.091810</td>\n",
       "      <td>-0.084140</td>\n",
       "      <td>0</td>\n",
       "      <td>0</td>\n",
       "      <td>0</td>\n",
       "      <td>0</td>\n",
       "      <td>0</td>\n",
       "    </tr>\n",
       "  </tbody>\n",
       "</table>\n",
       "</div>"
      ],
      "text/plain": [
       "                                             tx_hash  indegree  outdegree  \\\n",
       "0  0437cd7f8525ceed2324359c2d0ba26006d92d856a9c20... -0.122207  -0.562472   \n",
       "1  f4184fc596403b9d638783cf57adfe4c75c605f6356fbc... -0.023488   1.556850   \n",
       "2  ea44e97271691990157559d0bdd9959e02790c34db6c00... -0.023488  -0.562472   \n",
       "3  a16f3ce4dd5deb92d98ef5cf8afeaf0775ebca408f708b... -0.023488  -0.562472   \n",
       "4  591e91f809d716912ca1d4a9295e70c3e78bab077683f7... -0.023488   1.556850   \n",
       "\n",
       "     in_btc   out_btc  total_btc  mean_in_btc  mean_out_btc  in_malicious  \\\n",
       "0 -0.097154 -0.081493  -0.089661    -0.121279     -0.062446             0   \n",
       "1 -0.069773 -0.081493  -0.075826    -0.072164     -0.077941             0   \n",
       "2 -0.091678 -0.103722  -0.097961    -0.111456     -0.087239             0   \n",
       "3 -0.075249 -0.092607  -0.084127    -0.081987     -0.074842             0   \n",
       "4 -0.080725 -0.092607  -0.086894    -0.091810     -0.084140             0   \n",
       "\n",
       "   out_malicious  is_malicious  out_and_tx_malicious  all_malicious  \n",
       "0              0             0                     0              0  \n",
       "1              0             0                     0              0  \n",
       "2              0             0                     0              0  \n",
       "3              0             0                     0              0  \n",
       "4              0             0                     0              0  "
      ]
     },
     "execution_count": 4,
     "metadata": {},
     "output_type": "execute_result"
    }
   ],
   "source": [
    "from sklearn.preprocessing import StandardScaler\n",
    "\n",
    "# Initialize the StandardScaler\n",
    "scaler = StandardScaler()\n",
    "\n",
    "# Fit and transform the numerical columns\n",
    "df[numerical_cols] = scaler.fit_transform(df[numerical_cols])\n",
    "\n",
    "# Display the first few rows to confirm normalization\n",
    "print('Numerical columns normalized.')\n",
    "df.head()"
   ]
  },
  {
   "cell_type": "code",
   "execution_count": 6,
   "id": "6e357a09",
   "metadata": {},
   "outputs": [
    {
     "name": "stdout",
     "output_type": "stream",
     "text": [
      "New features created: btc_ratio, btc_difference\n"
     ]
    },
    {
     "data": {
      "text/html": [
       "<div>\n",
       "<style scoped>\n",
       "    .dataframe tbody tr th:only-of-type {\n",
       "        vertical-align: middle;\n",
       "    }\n",
       "\n",
       "    .dataframe tbody tr th {\n",
       "        vertical-align: top;\n",
       "    }\n",
       "\n",
       "    .dataframe thead th {\n",
       "        text-align: right;\n",
       "    }\n",
       "</style>\n",
       "<table border=\"1\" class=\"dataframe\">\n",
       "  <thead>\n",
       "    <tr style=\"text-align: right;\">\n",
       "      <th></th>\n",
       "      <th>btc_ratio</th>\n",
       "      <th>btc_difference</th>\n",
       "    </tr>\n",
       "  </thead>\n",
       "  <tbody>\n",
       "    <tr>\n",
       "      <th>0</th>\n",
       "      <td>1.192178</td>\n",
       "      <td>-0.015661</td>\n",
       "    </tr>\n",
       "    <tr>\n",
       "      <th>1</th>\n",
       "      <td>0.856182</td>\n",
       "      <td>0.011720</td>\n",
       "    </tr>\n",
       "    <tr>\n",
       "      <th>2</th>\n",
       "      <td>0.883880</td>\n",
       "      <td>0.012044</td>\n",
       "    </tr>\n",
       "    <tr>\n",
       "      <th>3</th>\n",
       "      <td>0.812559</td>\n",
       "      <td>0.017358</td>\n",
       "    </tr>\n",
       "    <tr>\n",
       "      <th>4</th>\n",
       "      <td>0.871693</td>\n",
       "      <td>0.011882</td>\n",
       "    </tr>\n",
       "  </tbody>\n",
       "</table>\n",
       "</div>"
      ],
      "text/plain": [
       "   btc_ratio  btc_difference\n",
       "0   1.192178       -0.015661\n",
       "1   0.856182        0.011720\n",
       "2   0.883880        0.012044\n",
       "3   0.812559        0.017358\n",
       "4   0.871693        0.011882"
      ]
     },
     "execution_count": 6,
     "metadata": {},
     "output_type": "execute_result"
    }
   ],
   "source": [
    "# Calculate the ratio of in_btc to out_btc\n",
    "# Add a small constant to avoid division by zero\n",
    "small_constant = 1e-9\n",
    "df['btc_ratio'] = df['in_btc'] / (df['out_btc'] + small_constant)\n",
    "\n",
    "# Calculate the difference between in_btc and out_btc\n",
    "df['btc_difference'] = df['in_btc'] - df['out_btc']\n",
    "\n",
    "print('New features created: btc_ratio, btc_difference')\n",
    "df[['btc_ratio', 'btc_difference']].head()"
   ]
  },
  {
   "cell_type": "code",
   "execution_count": 7,
   "id": "882eda50",
   "metadata": {},
   "outputs": [
    {
     "name": "stdout",
     "output_type": "stream",
     "text": [
      "K-Means clustering applied. Cluster labels added as a new feature.\n"
     ]
    },
    {
     "data": {
      "text/html": [
       "<div>\n",
       "<style scoped>\n",
       "    .dataframe tbody tr th:only-of-type {\n",
       "        vertical-align: middle;\n",
       "    }\n",
       "\n",
       "    .dataframe tbody tr th {\n",
       "        vertical-align: top;\n",
       "    }\n",
       "\n",
       "    .dataframe thead th {\n",
       "        text-align: right;\n",
       "    }\n",
       "</style>\n",
       "<table border=\"1\" class=\"dataframe\">\n",
       "  <thead>\n",
       "    <tr style=\"text-align: right;\">\n",
       "      <th></th>\n",
       "      <th>cluster_label</th>\n",
       "    </tr>\n",
       "  </thead>\n",
       "  <tbody>\n",
       "    <tr>\n",
       "      <th>0</th>\n",
       "      <td>0</td>\n",
       "    </tr>\n",
       "    <tr>\n",
       "      <th>1</th>\n",
       "      <td>4</td>\n",
       "    </tr>\n",
       "    <tr>\n",
       "      <th>2</th>\n",
       "      <td>0</td>\n",
       "    </tr>\n",
       "    <tr>\n",
       "      <th>3</th>\n",
       "      <td>0</td>\n",
       "    </tr>\n",
       "    <tr>\n",
       "      <th>4</th>\n",
       "      <td>4</td>\n",
       "    </tr>\n",
       "  </tbody>\n",
       "</table>\n",
       "</div>"
      ],
      "text/plain": [
       "   cluster_label\n",
       "0              0\n",
       "1              4\n",
       "2              0\n",
       "3              0\n",
       "4              4"
      ]
     },
     "execution_count": 7,
     "metadata": {},
     "output_type": "execute_result"
    }
   ],
   "source": [
    "from sklearn.cluster import KMeans\n",
    "\n",
    "# Select a subset of features for clustering\n",
    "features_for_clustering = ['indegree', 'outdegree', 'in_btc', 'out_btc', 'total_btc', 'mean_in_btc', 'mean_out_btc']\n",
    "\n",
    "# Initialize KMeans with a predetermined number of clusters\n",
    "# The optimal number of clusters can be determined using methods like the elbow method, but for simplicity, we'll choose 5\n",
    "kmeans = KMeans(n_clusters=5, random_state=42)\n",
    "\n",
    "# Fit KMeans and predict cluster labels\n",
    "df['cluster_label'] = kmeans.fit_predict(df[features_for_clustering])\n",
    "\n",
    "print('K-Means clustering applied. Cluster labels added as a new feature.')\n",
    "df[['cluster_label']].head()"
   ]
  },
  {
   "cell_type": "code",
   "execution_count": null,
   "id": "e21b9d6e",
   "metadata": {},
   "outputs": [],
   "source": []
  }
 ],
 "metadata": {
  "kernelspec": {
   "display_name": "Python 3 (ipykernel)",
   "language": "python",
   "name": "python3"
  },
  "language_info": {
   "codemirror_mode": {
    "name": "ipython",
    "version": 3
   },
   "file_extension": ".py",
   "mimetype": "text/x-python",
   "name": "python",
   "nbconvert_exporter": "python",
   "pygments_lexer": "ipython3",
   "version": "3.9.7"
  }
 },
 "nbformat": 4,
 "nbformat_minor": 5
}
